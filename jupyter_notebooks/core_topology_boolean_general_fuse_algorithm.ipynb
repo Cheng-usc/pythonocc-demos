{
 "cells": [
  {
   "cell_type": "markdown",
   "metadata": {},
   "source": [
    "# PythonOCC - Example - Topology - Boolean general fuse algorithm"
   ]
  },
  {
   "cell_type": "markdown",
   "metadata": {},
   "source": [
    "Example of the ***BOPAlgo_Builder*** function. General Fuse Algorithm."
   ]
  },
  {
   "cell_type": "code",
   "execution_count": 2,
   "metadata": {},
   "outputs": [],
   "source": [
    "# imports from OCC.Core\n",
    "from OCC.Core.BRepPrimAPI import BRepPrimAPI_MakeBox\n",
    "from OCC.Core.BOPAlgo import BOPAlgo_Builder"
   ]
  },
  {
   "cell_type": "code",
   "execution_count": 3,
   "metadata": {},
   "outputs": [],
   "source": [
    "# imports from Display and Extend\n",
    "from OCC.Display.WebGl.jupyter_renderer import JupyterRenderer"
   ]
  },
  {
   "cell_type": "markdown",
   "metadata": {},
   "source": [
    "Creation of the Jupyter Renderer"
   ]
  },
  {
   "cell_type": "code",
   "execution_count": 4,
   "metadata": {},
   "outputs": [],
   "source": [
    "my_renderer = JupyterRenderer()"
   ]
  },
  {
   "cell_type": "markdown",
   "metadata": {},
   "source": [
    "Generation of two solid boxes to fuse."
   ]
  },
  {
   "cell_type": "code",
   "execution_count": 5,
   "metadata": {},
   "outputs": [],
   "source": [
    "# the two boxes\n",
    "my_box1 = BRepPrimAPI_MakeBox(10., 20., 30.).Shape()\n",
    "my_box2 = BRepPrimAPI_MakeBox(20., 1., 30.).Shape()"
   ]
  },
  {
   "cell_type": "markdown",
   "metadata": {},
   "source": [
    "Create a *BOPAlgo_Builder*, add the boxes and perfom the fuse.  "
   ]
  },
  {
   "cell_type": "code",
   "execution_count": 6,
   "metadata": {},
   "outputs": [],
   "source": [
    "# use the General Fuse Algorithm\n",
    "builder = BOPAlgo_Builder()\n",
    "builder.AddArgument(my_box1)\n",
    "builder.AddArgument(my_box2)\n",
    "builder.SetRunParallel(True)\n",
    "builder.Perform()  # or .PerformWithFiller(a_filler)\n",
    "error_code = builder.ErrorStatus()\n",
    "if error_code != 0:\n",
    "    raise AssertionError(\"Failed with error code %i\" % error_code)\n",
    "result = builder.Shape()"
   ]
  },
  {
   "cell_type": "code",
   "execution_count": 7,
   "metadata": {},
   "outputs": [],
   "source": [
    "my_renderer.DisplayShape(result, render_edges = True)"
   ]
  },
  {
   "cell_type": "code",
   "execution_count": 8,
   "metadata": {},
   "outputs": [],
   "source": [
    "grid = my_renderer.DisplayGrid(100, 100, 10, 10)"
   ]
  },
  {
   "cell_type": "code",
   "execution_count": 9,
   "metadata": {},
   "outputs": [
    {
     "data": {
      "application/vnd.jupyter.widget-view+json": {
       "model_id": "575b4203c12a40d6a08420e3aabc500b",
       "version_major": 2,
       "version_minor": 0
      },
      "text/plain": [
       "HBox(children=(Renderer(background='white', camera=PerspectiveCamera(children=(DirectionalLight(intensity=0.9,…"
      ]
     },
     "metadata": {},
     "output_type": "display_data"
    },
    {
     "data": {
      "text/plain": []
     },
     "execution_count": 9,
     "metadata": {},
     "output_type": "execute_result"
    }
   ],
   "source": [
    "my_renderer"
   ]
  },
  {
   "cell_type": "code",
   "execution_count": null,
   "metadata": {},
   "outputs": [],
   "source": []
  }
 ],
 "metadata": {
  "kernelspec": {
   "display_name": "Python 3",
   "language": "python",
   "name": "python3"
  },
  "language_info": {
   "codemirror_mode": {
    "name": "ipython",
    "version": 3
   },
   "file_extension": ".py",
   "mimetype": "text/x-python",
   "name": "python",
   "nbconvert_exporter": "python",
   "pygments_lexer": "ipython3",
   "version": "3.6.6"
  }
 },
 "nbformat": 4,
 "nbformat_minor": 2
}
